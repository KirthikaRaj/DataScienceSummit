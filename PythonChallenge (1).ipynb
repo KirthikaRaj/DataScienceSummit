{
  "nbformat": 4,
  "nbformat_minor": 0,
  "metadata": {
    "colab": {
      "name": "PythonChallenge.ipynb",
      "provenance": [],
      "collapsed_sections": []
    },
    "kernelspec": {
      "name": "python3",
      "display_name": "Python 3"
    }
  },
  "cells": [
    {
      "cell_type": "markdown",
      "metadata": {
        "id": "ar0I2lp2ro2K",
        "colab_type": "text"
      },
      "source": [
        "## 8 Queens Problem - Solving Using the Genetic Algorithm\n",
        "   ### The steps followed are listed below\n",
        "      1. Create a Population for eg n= 100 . This will serve as the Initial Population. For the population, a new offspring population has to be computed using crossover.\n",
        "      2. Randomly choose two parents to generate an Offspring. This Process is called Crossover.\n",
        "      3. Perform Mutation"
      ]
    },
    {
      "cell_type": "code",
      "metadata": {
        "id": "_hpCx__S5O19",
        "colab_type": "code",
        "colab": {}
      },
      "source": [
        "import numpy as np\n",
        "import sys"
      ],
      "execution_count": 1,
      "outputs": []
    },
    {
      "cell_type": "code",
      "metadata": {
        "id": "tfVPQtMk5SgM",
        "colab_type": "code",
        "colab": {}
      },
      "source": [
        "nQueens = 8\n",
        "STOP_CTR = 28\n",
        "MUTATE_RATE = 0.00005\n",
        "MUTATE_FLAG = True\n",
        "MAX_ITER = 100000\n",
        "POPULATION = None"
      ],
      "execution_count": 2,
      "outputs": []
    },
    {
      "cell_type": "code",
      "metadata": {
        "id": "Z_znOA9Q5VGE",
        "colab_type": "code",
        "colab": {}
      },
      "source": [
        "class Setup:\n",
        "\tdef __init__(self):\n",
        "\t\tself.seq = None\n",
        "\t\tself.fit = None\n",
        "\t\tself.surv = None\n",
        "\tdef setSeq(self, val):\n",
        "\t\tself.seq = val\n",
        "\tdef setFit(self, fitness):\n",
        "\t\tself.fit = fitness\n",
        "\tdef setSurv(self, val):\n",
        "\t\tself.surv = val\n",
        "\tdef getAttr(self):\n",
        "\t\treturn {'sequence':seq, 'fitness':fit, 'survival':surv}"
      ],
      "execution_count": 3,
      "outputs": []
    },
    {
      "cell_type": "code",
      "metadata": {
        "id": "GseRauPY5YNi",
        "colab_type": "code",
        "colab": {}
      },
      "source": [
        "def fitness_fn(chromosome = None):\n",
        "\tclashes = 0;\n",
        "\trow_col_clashes = abs(len(chromosome) - len(np.unique(chromosome)))\n",
        "\tclashes += row_col_clashes\n",
        "\n",
        "\t# calculate diagonal clashes\n",
        "\tfor i in range(len(chromosome)):\n",
        "\t\tfor j in range(len(chromosome)):\n",
        "\t\t\tif ( i != j):\n",
        "\t\t\t\tdx = abs(i-j)\n",
        "\t\t\t\tdy = abs(chromosome[i] - chromosome[j])\n",
        "\t\t\t\tif(dx == dy):\n",
        "\t\t\t\t\tclashes += 1\n",
        "\n",
        "\n",
        "\treturn 28 - clashes\t"
      ],
      "execution_count": 4,
      "outputs": []
    },
    {
      "cell_type": "code",
      "metadata": {
        "id": "drbVIh-y5eHs",
        "colab_type": "code",
        "colab": {}
      },
      "source": [
        "def generateSequence():\n",
        "\t# randomly generates a sequence of board states.\n",
        "\tglobal nQueens\n",
        "\tinit_distribution = np.arange(nQueens)\n",
        "\tnp.random.shuffle(init_distribution)\n",
        "\treturn init_distribution"
      ],
      "execution_count": 5,
      "outputs": []
    },
    {
      "cell_type": "code",
      "metadata": {
        "id": "zRlmHQSk5iVB",
        "colab_type": "code",
        "colab": {}
      },
      "source": [
        "def generatePopulation(population_size = 100):\n",
        "\tglobal POPULATION\n",
        "\n",
        "\tPOPULATION = population_size\n",
        "\n",
        "\tpopulation = [Setup() for i in range(population_size)]\n",
        "\tfor i in range(population_size):\n",
        "\t\tpopulation[i].setSeq(generateSequence())\n",
        "\t\tpopulation[i].setFit(fitness_fn(population[i].seq))\n",
        "\n",
        "\treturn population"
      ],
      "execution_count": 6,
      "outputs": []
    },
    {
      "cell_type": "code",
      "metadata": {
        "id": "kD22-o-R5lbF",
        "colab_type": "code",
        "colab": {}
      },
      "source": [
        "def getParent():\n",
        "\tglobals()\t\n",
        "\tparent1, parent2 = None, None\n",
        "\t\n",
        "\tsummation_fitness = np.sum([x.fit for x in population])\n",
        "\tfor each in population:\n",
        "\t\teach.surv = each.fit/(summation_fitness*1.0)\n",
        "\n",
        "\twhile True:\n",
        "\t\tparent1_random = np.random.rand()\n",
        "\t\tparent1_rn = [x for x in population if x.surv <= parent1_random]\n",
        "\t\ttry:\n",
        "\t\t\tparent1 = parent1_rn[0]\n",
        "\t\t\tbreak\n",
        "\t\texcept:\n",
        "\t\t\tpass\n",
        "\n",
        "\twhile True:\n",
        "\t\tparent2_random = np.random.rand()\n",
        "\t\tparent2_rn = [x for x in population if x.surv <= parent2_random]\n",
        "\t\ttry:\n",
        "\t\t\tt = np.random.randint(len(parent2_rn))\n",
        "\t\t\tparent2 = parent2_rn[t]\n",
        "\t\t\tif parent2 != parent1:\n",
        "\t\t\t\tbreak\n",
        "\t\t\telse:\n",
        "\t\t\t\tprint(\"Same parents\")\n",
        "\t\t\t\tcontinue\n",
        "\t\texcept:\n",
        "\t\t\tprint(\"exception\")\n",
        "\t\t\tcontinue\n",
        "\n",
        "\tif parent1 is not None and parent2 is not None:\n",
        "\t\treturn parent1, parent2\n",
        "\telse:\n",
        "\t\tsys.exit(-1)"
      ],
      "execution_count": 7,
      "outputs": []
    },
    {
      "cell_type": "code",
      "metadata": {
        "id": "r0DfArLK5wfd",
        "colab_type": "code",
        "colab": {}
      },
      "source": [
        "def crossover(parent1, parent2):\n",
        "\tglobals()\n",
        "\tn = len(parent1.sequence)\n",
        "\tc = np.random.randint(n, size=1)\n",
        "\tchild = Setup()\n",
        "\tchild.seq = []\n",
        "\tchild.seq.extend(parent1.seq[0:c])\n",
        "\tchild.seq.extend(parent2.seq[c:])\n",
        "\tchild.setFit(fitness(child.seq))\n",
        "\treturn child"
      ],
      "execution_count": 8,
      "outputs": []
    },
    {
      "cell_type": "code",
      "metadata": {
        "id": "Crpq3V7E50En",
        "colab_type": "code",
        "colab": {}
      },
      "source": [
        "def mutatation(child):\n",
        "  globals()\n",
        "  if child.surv < MUTATE_RATE:\n",
        "    c = np.random.randint(nQueens)\n",
        "    child.seq[c] = np.random.randint(nQueens)\n",
        "    return child"
      ],
      "execution_count": 9,
      "outputs": []
    },
    {
      "cell_type": "code",
      "metadata": {
        "id": "AruTFH_l53Y3",
        "colab_type": "code",
        "colab": {}
      },
      "source": [
        "def GeneticAlgorithm(iteration):\n",
        "\tprint (\" $\"*10 ,\"Genetic Evolution : \", iteration , \" $\"*10)\n",
        "\tglobals()\n",
        "\tnewpopulation = []\n",
        "\tfor i in range(len(population)):\n",
        "\t\tparent1, parent2 = getParent()\n",
        "\t\t# print \"Parents generated : \", parent1, parent2\n",
        "\n",
        "\t\tchild = crossover(parent1, parent2)\n",
        "\n",
        "\t\tif(MUTATE_FLAG):\n",
        "\t\t\tchild = mutatation(child)\n",
        "\n",
        "\t\tnewpopulation.append(child)\n",
        "\treturn newpopulation"
      ],
      "execution_count": 10,
      "outputs": []
    },
    {
      "cell_type": "code",
      "metadata": {
        "id": "c6Qlsf7h57KH",
        "colab_type": "code",
        "colab": {}
      },
      "source": [
        "def stop():\n",
        "\tglobals()\n",
        "\tfitnessvals = [pos.fit for pos in population]\n",
        "\tif STOP_CTR in fitnessvals:\n",
        "\t\treturn True\n",
        "\tif MAX_ITER == iteration:\n",
        "\t\treturn True\n",
        "\treturn False"
      ],
      "execution_count": 11,
      "outputs": []
    },
    {
      "cell_type": "code",
      "metadata": {
        "id": "dJVgr0OZ5-4y",
        "colab_type": "code",
        "colab": {
          "base_uri": "https://localhost:8080/",
          "height": 102
        },
        "outputId": "d5535528-826e-4c21-fb29-35aecefced55"
      },
      "source": [
        "population = generatePopulation(1000)\n",
        "\n",
        "#print (\"POPULATION size : \", population)\n",
        "\n",
        "iteration = 0;\n",
        "while not stop():\n",
        "\t# keep iteratin till  you find the best position\n",
        "\tpopulation = GeneticAlgorithm(iteration)\n",
        "\titeration +=1 \n",
        "\n",
        "print (\"Iteration number : \", iteration)\n",
        "for each in population:\n",
        "\tif each.fit == 28:\n",
        "\t\tprint (each.seq)"
      ],
      "execution_count": 12,
      "outputs": [
        {
          "output_type": "stream",
          "text": [
            "Iteration number :  0\n",
            "[5 7 1 3 0 6 4 2]\n",
            "[2 5 7 0 4 6 1 3]\n",
            "[0 5 7 2 6 3 1 4]\n",
            "[3 6 0 7 4 1 5 2]\n"
          ],
          "name": "stdout"
        }
      ]
    },
    {
      "cell_type": "code",
      "metadata": {
        "id": "cGrNVbnRWNfq",
        "colab_type": "code",
        "colab": {}
      },
      "source": [
        ""
      ],
      "execution_count": null,
      "outputs": []
    }
  ]
}