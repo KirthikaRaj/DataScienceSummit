{
  "nbformat": 4,
  "nbformat_minor": 0,
  "metadata": {
    "colab": {
      "name": "PythonChallenge(8Q).ipynb",
      "provenance": []
    },
    "kernelspec": {
      "name": "python3",
      "display_name": "Python 3"
    }
  },
  "cells": [
    {
      "cell_type": "markdown",
      "metadata": {
        "id": "ar0I2lp2ro2K",
        "colab_type": "text"
      },
      "source": [
        "## 8 Queens Problem - Solving Using the Genetic Algorithm\n",
        "   ### The steps followed are listed below\n",
        "      1. Create a Population for eg n= 100 . This will serve as the Initial Population. For the population, a new offspring population has to be computed using crossover.\n",
        "      2. Randomly choose two parents to generate an Offspring. This Process is called Crossover.\n",
        "      3. Perform Mutation"
      ]
    },
    {
      "cell_type": "code",
      "metadata": {
        "id": "_hpCx__S5O19",
        "colab_type": "code",
        "colab": {}
      },
      "source": [
        "import numpy as np\n",
        "import sys"
      ],
      "execution_count": null,
      "outputs": []
    },
    {
      "cell_type": "code",
      "metadata": {
        "id": "tfVPQtMk5SgM",
        "colab_type": "code",
        "colab": {}
      },
      "source": [
        "nQueens = 8\n",
        "STOP_CTR = 28\n",
        "MUTATE_RATE = 0.00005\n",
        "MUTATE_FLAG = True\n",
        "MAX_ITER = 100000\n",
        "POPULATION = None"
      ],
      "execution_count": null,
      "outputs": []
    },
    {
      "cell_type": "code",
      "metadata": {
        "id": "Z_znOA9Q5VGE",
        "colab_type": "code",
        "colab": {}
      },
      "source": [
        "class Setup:\n",
        "\tdef __init__(self):\n",
        "\t\tself.seq = None\n",
        "\t\tself.fit = None\n",
        "\t\tself.surv = None\n",
        "\tdef setSeq(self, val):\n",
        "\t\tself.seq = val\n",
        "\tdef setFit(self, fitness):\n",
        "\t\tself.fit = fitness\n",
        "\tdef setSurv(self, val):\n",
        "\t\tself.surv = val\n",
        "\tdef getAttr(self):\n",
        "\t\treturn {'sequence':seq, 'fitness':fit, 'survival':surv}"
      ],
      "execution_count": null,
      "outputs": []
    },
    {
      "cell_type": "code",
      "metadata": {
        "id": "GseRauPY5YNi",
        "colab_type": "code",
        "colab": {}
      },
      "source": [
        "def fitness_fn(chromosome = None):\n",
        "\tclashes = 0;\n",
        "\trow_col_clashes = abs(len(chromosome) - len(np.unique(chromosome)))\n",
        "\tclashes += row_col_clashes\n",
        "\n",
        "\t# calculate diagonal clashes\n",
        "\tfor i in range(len(chromosome)):\n",
        "\t\tfor j in range(len(chromosome)):\n",
        "\t\t\tif ( i != j):\n",
        "\t\t\t\tdx = abs(i-j)\n",
        "\t\t\t\tdy = abs(chromosome[i] - chromosome[j])\n",
        "\t\t\t\tif(dx == dy):\n",
        "\t\t\t\t\tclashes += 1\n",
        "\n",
        "\n",
        "\treturn 28 - clashes\t"
      ],
      "execution_count": null,
      "outputs": []
    },
    {
      "cell_type": "code",
      "metadata": {
        "id": "drbVIh-y5eHs",
        "colab_type": "code",
        "colab": {}
      },
      "source": [
        "def generateSequence():\n",
        "\t# randomly generates a sequence of board states.\n",
        "\tglobal nQueens\n",
        "\tinit_distribution = np.arange(nQueens)\n",
        "\tnp.random.shuffle(init_distribution)\n",
        "\treturn init_distribution"
      ],
      "execution_count": null,
      "outputs": []
    },
    {
      "cell_type": "code",
      "metadata": {
        "id": "zRlmHQSk5iVB",
        "colab_type": "code",
        "colab": {}
      },
      "source": [
        "def generatePopulation(population_size = 100):\n",
        "\tglobal POPULATION\n",
        "\n",
        "\tPOPULATION = population_size\n",
        "\n",
        "\tpopulation = [Setup() for i in range(population_size)]\n",
        "\tfor i in range(population_size):\n",
        "\t\tpopulation[i].setSeq(generateSequence())\n",
        "\t\tpopulation[i].setFit(fitness_fn(population[i].seq))\n",
        "\n",
        "\treturn population"
      ],
      "execution_count": null,
      "outputs": []
    },
    {
      "cell_type": "code",
      "metadata": {
        "id": "kD22-o-R5lbF",
        "colab_type": "code",
        "colab": {}
      },
      "source": [
        "def getParent():\n",
        "\tglobals()\t\n",
        "\tparent1, parent2 = None, None\n",
        "\t\n",
        "\tsummation_fitness = np.sum([x.fit for x in population])\n",
        "\tfor each in population:\n",
        "\t\teach.surv = each.fit/(summation_fitness*1.0)\n",
        "\n",
        "\twhile True:\n",
        "\t\tparent1_random = np.random.rand()\n",
        "\t\tparent1_rn = [x for x in population if x.surv <= parent1_random]\n",
        "\t\ttry:\n",
        "\t\t\tparent1 = parent1_rn[0]\n",
        "\t\t\tbreak\n",
        "\t\texcept:\n",
        "\t\t\tpass\n",
        "\n",
        "\twhile True:\n",
        "\t\tparent2_random = np.random.rand()\n",
        "\t\tparent2_rn = [x for x in population if x.surv <= parent2_random]\n",
        "\t\ttry:\n",
        "\t\t\tt = np.random.randint(len(parent2_rn))\n",
        "\t\t\tparent2 = parent2_rn[t]\n",
        "\t\t\tif parent2 != parent1:\n",
        "\t\t\t\tbreak\n",
        "\t\t\telse:\n",
        "\t\t\t\tprint(\"Same parents\")\n",
        "\t\t\t\tcontinue\n",
        "\t\texcept:\n",
        "\t\t\tprint(\"exception\")\n",
        "\t\t\tcontinue\n",
        "\n",
        "\tif parent1 is not None and parent2 is not None:\n",
        "\t\treturn parent1, parent2\n",
        "\telse:\n",
        "\t\tsys.exit(-1)"
      ],
      "execution_count": null,
      "outputs": []
    },
    {
      "cell_type": "code",
      "metadata": {
        "id": "r0DfArLK5wfd",
        "colab_type": "code",
        "colab": {}
      },
      "source": [
        "def crossover(parent1, parent2):\n",
        "\tglobals()\n",
        "\tn = len(parent1.sequence)\n",
        "\tc = np.random.randint(n, size=1)\n",
        "\tchild = Setup()\n",
        "\tchild.seq = []\n",
        "\tchild.seq.extend(parent1.seq[0:c])\n",
        "\tchild.seq.extend(parent2.seq[c:])\n",
        "\tchild.setFit(fitness(child.seq))\n",
        "\treturn child"
      ],
      "execution_count": null,
      "outputs": []
    },
    {
      "cell_type": "code",
      "metadata": {
        "id": "Crpq3V7E50En",
        "colab_type": "code",
        "colab": {}
      },
      "source": [
        "def mutatation(child):\n",
        "  globals()\n",
        "  if child.surv < MUTATE_RATE:\n",
        "    c = np.random.randint(nQueens)\n",
        "    child.seq[c] = np.random.randint(nQueens)\n",
        "    return child"
      ],
      "execution_count": null,
      "outputs": []
    },
    {
      "cell_type": "code",
      "metadata": {
        "id": "AruTFH_l53Y3",
        "colab_type": "code",
        "colab": {}
      },
      "source": [
        "def GeneticAlgorithm(iteration):\n",
        "\tprint (\" $\"*10 ,\"Genetic Evolution : \", iteration , \" $\"*10)\n",
        "\tglobals()\n",
        "\tnewpopulation = []\n",
        "\tfor i in range(len(population)):\n",
        "\t\tparent1, parent2 = getParent()\n",
        "\t\t# print \"Parents generated : \", parent1, parent2\n",
        "\n",
        "\t\tchild = crossover(parent1, parent2)\n",
        "\n",
        "\t\tif(MUTATE_FLAG):\n",
        "\t\t\tchild = mutatation(child)\n",
        "\n",
        "\t\tnewpopulation.append(child)\n",
        "\treturn newpopulation"
      ],
      "execution_count": null,
      "outputs": []
    },
    {
      "cell_type": "code",
      "metadata": {
        "id": "c6Qlsf7h57KH",
        "colab_type": "code",
        "colab": {}
      },
      "source": [
        "def stop():\n",
        "\tglobals()\n",
        "\tfitnessvals = [pos.fit for pos in population]\n",
        "\tif STOP_CTR in fitnessvals:\n",
        "\t\treturn True\n",
        "\tif MAX_ITER == iteration:\n",
        "\t\treturn True\n",
        "\treturn False"
      ],
      "execution_count": null,
      "outputs": []
    },
    {
      "cell_type": "code",
      "metadata": {
        "id": "dJVgr0OZ5-4y",
        "colab_type": "code",
        "colab": {
          "base_uri": "https://localhost:8080/",
          "height": 122
        },
        "outputId": "24756fe6-585e-4685-a550-b0119fb171d4"
      },
      "source": [
        "population = generatePopulation(1000)\n",
        "\n",
        "print (\"POPULATION size : \", population)\n",
        "\n",
        "iteration = 0;\n",
        "while not stop():\n",
        "\t# keep iteratin till  you find the best position\n",
        "\tpopulation = GeneticAlgorithm(iteration)\n",
        "\titeration +=1 \n",
        "\n",
        "print (\"Iteration number : \", iteration)\n",
        "for each in population:\n",
        "\tif each.fit == 28:\n",
        "\t\tprint (each.seq)"
      ],
      "execution_count": null,
      "outputs": [
        {
          "output_type": "stream",
          "text": [
            "POPULATION size :  [<__main__.Setup object at 0x7f1f63cb5ef0>, <__main__.Setup object at 0x7f1f63cb5fd0>, <__main__.Setup object at 0x7f1f63cb5518>, <__main__.Setup object at 0x7f1f63cb5f98>, <__main__.Setup object at 0x7f1f63cb5710>, <__main__.Setup object at 0x7f1f63cb57b8>, <__main__.Setup object at 0x7f1f63cb56d8>, <__main__.Setup object at 0x7f1f63cb55f8>, <__main__.Setup object at 0x7f1f63cb54e0>, <__main__.Setup object at 0x7f1f63cb5748>, <__main__.Setup object at 0x7f1f63cb57f0>, <__main__.Setup object at 0x7f1f63cb5860>, <__main__.Setup object at 0x7f1f63cb5898>, <__main__.Setup object at 0x7f1f63cb5a90>, <__main__.Setup object at 0x7f1f63cb5940>, <__main__.Setup object at 0x7f1f63cb54a8>, <__main__.Setup object at 0x7f1f63cb59b0>, <__main__.Setup object at 0x7f1f63cb5828>, <__main__.Setup object at 0x7f1f63cb5978>, <__main__.Setup object at 0x7f1f63cb58d0>, <__main__.Setup object at 0x7f1f63cb5908>, <__main__.Setup object at 0x7f1f63cb5198>, <__main__.Setup object at 0x7f1f63cb5780>, <__main__.Setup object at 0x7f1f63d3ae80>, <__main__.Setup object at 0x7f1f63d3ad30>, <__main__.Setup object at 0x7f1f63d3af98>, <__main__.Setup object at 0x7f1f63d3ad68>, <__main__.Setup object at 0x7f1f63d3ae10>, <__main__.Setup object at 0x7f1f63d3aeb8>, <__main__.Setup object at 0x7f1f63d3ac50>, <__main__.Setup object at 0x7f1f63d3afd0>, <__main__.Setup object at 0x7f1f63d3af60>, <__main__.Setup object at 0x7f1f81248080>, <__main__.Setup object at 0x7f1f64687fd0>, <__main__.Setup object at 0x7f1f63d85048>, <__main__.Setup object at 0x7f1f63d85160>, <__main__.Setup object at 0x7f1f63d850f0>, <__main__.Setup object at 0x7f1f63d85128>, <__main__.Setup object at 0x7f1f63d85550>, <__main__.Setup object at 0x7f1f63d85358>, <__main__.Setup object at 0x7f1f63d851d0>, <__main__.Setup object at 0x7f1f63d850b8>, <__main__.Setup object at 0x7f1f63d852b0>, <__main__.Setup object at 0x7f1f63d85278>, <__main__.Setup object at 0x7f1f63d85dd8>, <__main__.Setup object at 0x7f1f63d85080>, <__main__.Setup object at 0x7f1f63d85208>, <__main__.Setup object at 0x7f1f63d85630>, <__main__.Setup object at 0x7f1f63d85240>, <__main__.Setup object at 0x7f1f63d85978>, <__main__.Setup object at 0x7f1f63d85fd0>, <__main__.Setup object at 0x7f1f63d85c88>, <__main__.Setup object at 0x7f1f63d88fd0>, <__main__.Setup object at 0x7f1f63d88ef0>, <__main__.Setup object at 0x7f1f63d88f60>, <__main__.Setup object at 0x7f1f63d88dd8>, <__main__.Setup object at 0x7f1f63d88d68>, <__main__.Setup object at 0x7f1f63d882e8>, <__main__.Setup object at 0x7f1f63d884a8>, <__main__.Setup object at 0x7f1f63d88f28>, <__main__.Setup object at 0x7f1f63d880f0>, <__main__.Setup object at 0x7f1f63d887b8>, <__main__.Setup object at 0x7f1f63d88438>, <__main__.Setup object at 0x7f1f63d88b38>, <__main__.Setup object at 0x7f1f63d88550>, <__main__.Setup object at 0x7f1f63d88048>, <__main__.Setup object at 0x7f1f63d88710>, <__main__.Setup object at 0x7f1f63d88c18>, <__main__.Setup object at 0x7f1f63d881d0>, <__main__.Setup object at 0x7f1f63d88b00>, <__main__.Setup object at 0x7f1f63d88860>, <__main__.Setup object at 0x7f1f63d887f0>, <__main__.Setup object at 0x7f1f63d885c0>, <__main__.Setup object at 0x7f1f63d882b0>, <__main__.Setup object at 0x7f1f63d88588>, <__main__.Setup object at 0x7f1f63c3f278>, <__main__.Setup object at 0x7f1f63c3f1d0>, <__main__.Setup object at 0x7f1f63c3f0b8>, <__main__.Setup object at 0x7f1f63c3fd30>, <__main__.Setup object at 0x7f1f63c3f160>, <__main__.Setup object at 0x7f1f63c3f048>, <__main__.Setup object at 0x7f1f63c3f2b0>, <__main__.Setup object at 0x7f1f63c3f390>, <__main__.Setup object at 0x7f1f63c3f320>, <__main__.Setup object at 0x7f1f63c3f358>, <__main__.Setup object at 0x7f1f63c3f898>, <__main__.Setup object at 0x7f1f63c3f198>, <__main__.Setup object at 0x7f1f63c3f8d0>, <__main__.Setup object at 0x7f1f63c3f470>, <__main__.Setup object at 0x7f1f63c3f4a8>, <__main__.Setup object at 0x7f1f63c3fb70>, <__main__.Setup object at 0x7f1f63c3fcc0>, <__main__.Setup object at 0x7f1f63c3fac8>, <__main__.Setup object at 0x7f1f63c3fcf8>, <__main__.Setup object at 0x7f1f63c3fb00>, <__main__.Setup object at 0x7f1f63c3fd68>, <__main__.Setup object at 0x7f1f63c3feb8>, <__main__.Setup object at 0x7f1f63c3ffd0>, <__main__.Setup object at 0x7f1f63c3fe48>, <__main__.Setup object at 0x7f1f63c3ff98>, <__main__.Setup object at 0x7f1f63c3fef0>, <__main__.Setup object at 0x7f1f63c3ff28>, <__main__.Setup object at 0x7f1f63c3ff60>, <__main__.Setup object at 0x7f1f63c3fe80>, <__main__.Setup object at 0x7f1f63c3f3c8>, <__main__.Setup object at 0x7f1f63c3f518>, <__main__.Setup object at 0x7f1f63c3f240>, <__main__.Setup object at 0x7f1f63c3f208>, <__main__.Setup object at 0x7f1f63c3f4e0>, <__main__.Setup object at 0x7f1f63c3fdd8>, <__main__.Setup object at 0x7f1f63c3fb38>, <__main__.Setup object at 0x7f1f63c3f400>, <__main__.Setup object at 0x7f1f63c3f9b0>, <__main__.Setup object at 0x7f1f63c3fba8>, <__main__.Setup object at 0x7f1f63c3f438>, <__main__.Setup object at 0x7f1f63c3f128>, <__main__.Setup object at 0x7f1f63c3f710>, <__main__.Setup object at 0x7f1f63c3fe10>, <__main__.Setup object at 0x7f1f63c3f5f8>, <__main__.Setup object at 0x7f1f63c3fda0>, <__main__.Setup object at 0x7f1f63c3f860>, <__main__.Setup object at 0x7f1f63c3fa90>, <__main__.Setup object at 0x7f1f63c3f6d8>, <__main__.Setup object at 0x7f1f63c3f748>, <__main__.Setup object at 0x7f1f63c3f588>, <__main__.Setup object at 0x7f1f63c3f6a0>, <__main__.Setup object at 0x7f1f63c3f5c0>, <__main__.Setup object at 0x7f1f63c3f780>, <__main__.Setup object at 0x7f1f63c3fbe0>, <__main__.Setup object at 0x7f1f63c3f940>, <__main__.Setup object at 0x7f1f63c3f7b8>, <__main__.Setup object at 0x7f1f63c3f828>, <__main__.Setup object at 0x7f1f63c3f9e8>, <__main__.Setup object at 0x7f1f63c3f908>, <__main__.Setup object at 0x7f1f645f2198>, <__main__.Setup object at 0x7f1f645f26d8>, <__main__.Setup object at 0x7f1f645f2828>, <__main__.Setup object at 0x7f1f645f2710>, <__main__.Setup object at 0x7f1f645f23c8>, <__main__.Setup object at 0x7f1f645f2128>, <__main__.Setup object at 0x7f1f645f2b38>, <__main__.Setup object at 0x7f1f645f2780>, <__main__.Setup object at 0x7f1f645f2c50>, <__main__.Setup object at 0x7f1f645f2a58>, <__main__.Setup object at 0x7f1f645f2358>, <__main__.Setup object at 0x7f1f645f2630>, <__main__.Setup object at 0x7f1f645f2b70>, <__main__.Setup object at 0x7f1f645f2860>, <__main__.Setup object at 0x7f1f645f2550>, <__main__.Setup object at 0x7f1f645f27f0>, <__main__.Setup object at 0x7f1f645f25f8>, <__main__.Setup object at 0x7f1f645f26a0>, <__main__.Setup object at 0x7f1f645f2b00>, <__main__.Setup object at 0x7f1f63d8a160>, <__main__.Setup object at 0x7f1f63d8ac50>, <__main__.Setup object at 0x7f1f63d8a8d0>, <__main__.Setup object at 0x7f1f63d8a7b8>, <__main__.Setup object at 0x7f1f63d8a9b0>, <__main__.Setup object at 0x7f1f63d8a908>, <__main__.Setup object at 0x7f1f63d8a978>, <__main__.Setup object at 0x7f1f63d8a780>, <__main__.Setup object at 0x7f1f63d8a7f0>, <__main__.Setup object at 0x7f1f63d8aba8>, <__main__.Setup object at 0x7f1f63d8a940>, <__main__.Setup object at 0x7f1f63d8ab70>, <__main__.Setup object at 0x7f1f645e3c50>, <__main__.Setup object at 0x7f1f645e36a0>, <__main__.Setup object at 0x7f1f63cb2278>, <__main__.Setup object at 0x7f1f63cb2518>, <__main__.Setup object at 0x7f1f63cb2588>, <__main__.Setup object at 0x7f1f63cb25c0>, <__main__.Setup object at 0x7f1f63cb2550>, <__main__.Setup object at 0x7f1f63cb2048>, <__main__.Setup object at 0x7f1f63cb2128>, <__main__.Setup object at 0x7f1f63cb2160>, <__main__.Setup object at 0x7f1f63cb2080>, <__main__.Setup object at 0x7f1f63cb20f0>, <__main__.Setup object at 0x7f1f63cb20b8>, <__main__.Setup object at 0x7f1f63cb2198>, <__main__.Setup object at 0x7f1f63cb21d0>, <__main__.Setup object at 0x7f1f63cb24a8>, <__main__.Setup object at 0x7f1f63cb2470>, <__main__.Setup object at 0x7f1f63cb25f8>, <__main__.Setup object at 0x7f1f63cb2630>, <__main__.Setup object at 0x7f1f63cb2668>, <__main__.Setup object at 0x7f1f63cb26a0>, <__main__.Setup object at 0x7f1f63cb26d8>, <__main__.Setup object at 0x7f1f63cb2710>, <__main__.Setup object at 0x7f1f63cb2748>, <__main__.Setup object at 0x7f1f63cb2780>, <__main__.Setup object at 0x7f1f63cb27b8>, <__main__.Setup object at 0x7f1f63cb27f0>, <__main__.Setup object at 0x7f1f63cb2828>, <__main__.Setup object at 0x7f1f63cb2860>, <__main__.Setup object at 0x7f1f63cb2898>, <__main__.Setup object at 0x7f1f63cb28d0>, <__main__.Setup object at 0x7f1f63cb2908>, <__main__.Setup object at 0x7f1f63cb2940>, <__main__.Setup object at 0x7f1f63cb2978>, <__main__.Setup object at 0x7f1f63cb29b0>, <__main__.Setup object at 0x7f1f63cb29e8>, <__main__.Setup object at 0x7f1f63cb2a20>, <__main__.Setup object at 0x7f1f63cb2a58>, <__main__.Setup object at 0x7f1f63cb2a90>, <__main__.Setup object at 0x7f1f63cb2ac8>, <__main__.Setup object at 0x7f1f63cb2b00>, <__main__.Setup object at 0x7f1f63cb2b38>, <__main__.Setup object at 0x7f1f63cb2b70>, <__main__.Setup object at 0x7f1f63cb2ba8>, <__main__.Setup object at 0x7f1f63cb2be0>, <__main__.Setup object at 0x7f1f63cb2c18>, <__main__.Setup object at 0x7f1f63cb2c50>, <__main__.Setup object at 0x7f1f63cb2c88>, <__main__.Setup object at 0x7f1f63cb2cc0>, <__main__.Setup object at 0x7f1f63cb2cf8>, <__main__.Setup object at 0x7f1f63cb2d30>, <__main__.Setup object at 0x7f1f63cb2d68>, <__main__.Setup object at 0x7f1f63cb2da0>, <__main__.Setup object at 0x7f1f63cb2dd8>, <__main__.Setup object at 0x7f1f63cb2e10>, <__main__.Setup object at 0x7f1f63cb2e48>, <__main__.Setup object at 0x7f1f63cb2e80>, <__main__.Setup object at 0x7f1f63cb2eb8>, <__main__.Setup object at 0x7f1f63cb2ef0>, <__main__.Setup object at 0x7f1f63cb2f28>, <__main__.Setup object at 0x7f1f63cb2f60>, <__main__.Setup object at 0x7f1f63cb2f98>, <__main__.Setup object at 0x7f1f63cb2fd0>, <__main__.Setup object at 0x7f1f63d86048>, <__main__.Setup object at 0x7f1f63d86080>, <__main__.Setup object at 0x7f1f63d860b8>, <__main__.Setup object at 0x7f1f63d860f0>, <__main__.Setup object at 0x7f1f63d86128>, <__main__.Setup object at 0x7f1f63d86160>, <__main__.Setup object at 0x7f1f63d86198>, <__main__.Setup object at 0x7f1f63d861d0>, <__main__.Setup object at 0x7f1f63d86208>, <__main__.Setup object at 0x7f1f63d86240>, <__main__.Setup object at 0x7f1f63d86278>, <__main__.Setup object at 0x7f1f63d862b0>, <__main__.Setup object at 0x7f1f63d862e8>, <__main__.Setup object at 0x7f1f63d86320>, <__main__.Setup object at 0x7f1f63d86358>, <__main__.Setup object at 0x7f1f63d86390>, <__main__.Setup object at 0x7f1f63d863c8>, <__main__.Setup object at 0x7f1f63d86400>, <__main__.Setup object at 0x7f1f63d86438>, <__main__.Setup object at 0x7f1f63d86470>, <__main__.Setup object at 0x7f1f63d864a8>, <__main__.Setup object at 0x7f1f63d864e0>, <__main__.Setup object at 0x7f1f63d86518>, <__main__.Setup object at 0x7f1f63d86550>, <__main__.Setup object at 0x7f1f63d86588>, <__main__.Setup object at 0x7f1f63d865c0>, <__main__.Setup object at 0x7f1f63d865f8>, <__main__.Setup object at 0x7f1f63d86630>, <__main__.Setup object at 0x7f1f63d86668>, <__main__.Setup object at 0x7f1f63d866a0>, <__main__.Setup object at 0x7f1f63d866d8>, <__main__.Setup object at 0x7f1f63d86710>, <__main__.Setup object at 0x7f1f63d86748>, <__main__.Setup object at 0x7f1f63d86780>, <__main__.Setup object at 0x7f1f63d867b8>, <__main__.Setup object at 0x7f1f63d867f0>, <__main__.Setup object at 0x7f1f63d86828>, <__main__.Setup object at 0x7f1f63d86860>, <__main__.Setup object at 0x7f1f63d86898>, <__main__.Setup object at 0x7f1f63d868d0>, <__main__.Setup object at 0x7f1f63d86908>, <__main__.Setup object at 0x7f1f63d86940>, <__main__.Setup object at 0x7f1f63d86978>, <__main__.Setup object at 0x7f1f63d869b0>, <__main__.Setup object at 0x7f1f63d869e8>, <__main__.Setup object at 0x7f1f63d86a20>, <__main__.Setup object at 0x7f1f63d86a58>, <__main__.Setup object at 0x7f1f63d86a90>, <__main__.Setup object at 0x7f1f63d86ac8>, <__main__.Setup object at 0x7f1f63d86b00>, <__main__.Setup object at 0x7f1f63d86b38>, <__main__.Setup object at 0x7f1f63d86b70>, <__main__.Setup object at 0x7f1f63d86ba8>, <__main__.Setup object at 0x7f1f63d86be0>, <__main__.Setup object at 0x7f1f63d86c18>, <__main__.Setup object at 0x7f1f63d86c50>, <__main__.Setup object at 0x7f1f63d86c88>, <__main__.Setup object at 0x7f1f63d86cc0>, <__main__.Setup object at 0x7f1f63d86cf8>, <__main__.Setup object at 0x7f1f63d86d30>, <__main__.Setup object at 0x7f1f63d86d68>, <__main__.Setup object at 0x7f1f63d86da0>, <__main__.Setup object at 0x7f1f63d86dd8>, <__main__.Setup object at 0x7f1f63d86e10>, <__main__.Setup object at 0x7f1f63d86e48>, <__main__.Setup object at 0x7f1f63d86e80>, <__main__.Setup object at 0x7f1f63d86eb8>, <__main__.Setup object at 0x7f1f63d86ef0>, <__main__.Setup object at 0x7f1f63d86f28>, <__main__.Setup object at 0x7f1f63d86f60>, <__main__.Setup object at 0x7f1f63d86f98>, <__main__.Setup object at 0x7f1f63d86fd0>, <__main__.Setup object at 0x7f1f63dad048>, <__main__.Setup object at 0x7f1f63dad080>, <__main__.Setup object at 0x7f1f63dad0b8>, <__main__.Setup object at 0x7f1f63dad0f0>, <__main__.Setup object at 0x7f1f63dad128>, <__main__.Setup object at 0x7f1f63dad160>, <__main__.Setup object at 0x7f1f63dad198>, <__main__.Setup object at 0x7f1f63dad1d0>, <__main__.Setup object at 0x7f1f63dad208>, <__main__.Setup object at 0x7f1f63dad240>, <__main__.Setup object at 0x7f1f63dad278>, <__main__.Setup object at 0x7f1f63dad2b0>, <__main__.Setup object at 0x7f1f63dad2e8>, <__main__.Setup object at 0x7f1f63dad320>, <__main__.Setup object at 0x7f1f63dad358>, <__main__.Setup object at 0x7f1f63dad390>, <__main__.Setup object at 0x7f1f63dad3c8>, <__main__.Setup object at 0x7f1f63dad400>, <__main__.Setup object at 0x7f1f63dad438>, <__main__.Setup object at 0x7f1f63dad470>, <__main__.Setup object at 0x7f1f63dad4a8>, <__main__.Setup object at 0x7f1f63dad4e0>, <__main__.Setup object at 0x7f1f63dad518>, <__main__.Setup object at 0x7f1f63dad550>, <__main__.Setup object at 0x7f1f63dad588>, <__main__.Setup object at 0x7f1f63dad5c0>, <__main__.Setup object at 0x7f1f63dad5f8>, <__main__.Setup object at 0x7f1f63dad630>, <__main__.Setup object at 0x7f1f63dad668>, <__main__.Setup object at 0x7f1f63dad6a0>, <__main__.Setup object at 0x7f1f63dad6d8>, <__main__.Setup object at 0x7f1f63dad710>, <__main__.Setup object at 0x7f1f63dad748>, <__main__.Setup object at 0x7f1f63dad780>, <__main__.Setup object at 0x7f1f63dad7b8>, <__main__.Setup object at 0x7f1f63dad7f0>, <__main__.Setup object at 0x7f1f63dad828>, <__main__.Setup object at 0x7f1f63dad860>, <__main__.Setup object at 0x7f1f63dad898>, <__main__.Setup object at 0x7f1f63dad8d0>, <__main__.Setup object at 0x7f1f63dad908>, <__main__.Setup object at 0x7f1f63dad940>, <__main__.Setup object at 0x7f1f63dad978>, <__main__.Setup object at 0x7f1f63dad9b0>, <__main__.Setup object at 0x7f1f63dad9e8>, <__main__.Setup object at 0x7f1f63dada20>, <__main__.Setup object at 0x7f1f63dada58>, <__main__.Setup object at 0x7f1f63dada90>, <__main__.Setup object at 0x7f1f63dadac8>, <__main__.Setup object at 0x7f1f63dadb00>, <__main__.Setup object at 0x7f1f63dadb38>, <__main__.Setup object at 0x7f1f63dadb70>, <__main__.Setup object at 0x7f1f63dadba8>, <__main__.Setup object at 0x7f1f63dadbe0>, <__main__.Setup object at 0x7f1f63dadc18>, <__main__.Setup object at 0x7f1f63dadc50>, <__main__.Setup object at 0x7f1f63dadc88>, <__main__.Setup object at 0x7f1f63dadcc0>, <__main__.Setup object at 0x7f1f63dadcf8>, <__main__.Setup object at 0x7f1f63dadd30>, <__main__.Setup object at 0x7f1f63dadd68>, <__main__.Setup object at 0x7f1f63dadda0>, <__main__.Setup object at 0x7f1f63daddd8>, <__main__.Setup object at 0x7f1f63dade10>, <__main__.Setup object at 0x7f1f63dade48>, <__main__.Setup object at 0x7f1f63dade80>, <__main__.Setup object at 0x7f1f63dadeb8>, <__main__.Setup object at 0x7f1f63dadef0>, <__main__.Setup object at 0x7f1f63dadf28>, <__main__.Setup object at 0x7f1f63dadf60>, <__main__.Setup object at 0x7f1f63dadf98>, <__main__.Setup object at 0x7f1f63dadfd0>, <__main__.Setup object at 0x7f1f63c49048>, <__main__.Setup object at 0x7f1f63c49080>, <__main__.Setup object at 0x7f1f63c490b8>, <__main__.Setup object at 0x7f1f63c490f0>, <__main__.Setup object at 0x7f1f63c49128>, <__main__.Setup object at 0x7f1f63c49160>, <__main__.Setup object at 0x7f1f63c49198>, <__main__.Setup object at 0x7f1f63c491d0>, <__main__.Setup object at 0x7f1f63c49208>, <__main__.Setup object at 0x7f1f63c49240>, <__main__.Setup object at 0x7f1f63c49278>, <__main__.Setup object at 0x7f1f63c492b0>, <__main__.Setup object at 0x7f1f63c492e8>, <__main__.Setup object at 0x7f1f63c49320>, <__main__.Setup object at 0x7f1f63c49358>, <__main__.Setup object at 0x7f1f63c49390>, <__main__.Setup object at 0x7f1f63c493c8>, <__main__.Setup object at 0x7f1f63c49400>, <__main__.Setup object at 0x7f1f63c49438>, <__main__.Setup object at 0x7f1f63c49470>, <__main__.Setup object at 0x7f1f63c494a8>, <__main__.Setup object at 0x7f1f63c494e0>, <__main__.Setup object at 0x7f1f63c49518>, <__main__.Setup object at 0x7f1f63c49550>, <__main__.Setup object at 0x7f1f63c49588>, <__main__.Setup object at 0x7f1f63c495c0>, <__main__.Setup object at 0x7f1f63c495f8>, <__main__.Setup object at 0x7f1f63c49630>, <__main__.Setup object at 0x7f1f63c49668>, <__main__.Setup object at 0x7f1f63c496a0>, <__main__.Setup object at 0x7f1f63c496d8>, <__main__.Setup object at 0x7f1f63c49710>, <__main__.Setup object at 0x7f1f63c49748>, <__main__.Setup object at 0x7f1f63c49780>, <__main__.Setup object at 0x7f1f63c497b8>, <__main__.Setup object at 0x7f1f63c497f0>, <__main__.Setup object at 0x7f1f63c49828>, <__main__.Setup object at 0x7f1f63c49860>, <__main__.Setup object at 0x7f1f63c49898>, <__main__.Setup object at 0x7f1f63c498d0>, <__main__.Setup object at 0x7f1f63c49908>, <__main__.Setup object at 0x7f1f63c49940>, <__main__.Setup object at 0x7f1f63c49978>, <__main__.Setup object at 0x7f1f63c499b0>, <__main__.Setup object at 0x7f1f63c499e8>, <__main__.Setup object at 0x7f1f63c49a20>, <__main__.Setup object at 0x7f1f63c49a58>, <__main__.Setup object at 0x7f1f63c49a90>, <__main__.Setup object at 0x7f1f63c49ac8>, <__main__.Setup object at 0x7f1f63c49b00>, <__main__.Setup object at 0x7f1f63c49b38>, <__main__.Setup object at 0x7f1f63c49b70>, <__main__.Setup object at 0x7f1f63c49ba8>, <__main__.Setup object at 0x7f1f63c49be0>, <__main__.Setup object at 0x7f1f63c49c18>, <__main__.Setup object at 0x7f1f63c49c50>, <__main__.Setup object at 0x7f1f63c49c88>, <__main__.Setup object at 0x7f1f63c49cc0>, <__main__.Setup object at 0x7f1f63c49cf8>, <__main__.Setup object at 0x7f1f63c49d30>, <__main__.Setup object at 0x7f1f63c49d68>, <__main__.Setup object at 0x7f1f63c49da0>, <__main__.Setup object at 0x7f1f63c49dd8>, <__main__.Setup object at 0x7f1f63c49e10>, <__main__.Setup object at 0x7f1f63c49e48>, <__main__.Setup object at 0x7f1f63c49e80>, <__main__.Setup object at 0x7f1f63c49eb8>, <__main__.Setup object at 0x7f1f63c49ef0>, <__main__.Setup object at 0x7f1f63c49f28>, <__main__.Setup object at 0x7f1f63c49f60>, <__main__.Setup object at 0x7f1f63c49f98>, <__main__.Setup object at 0x7f1f63c49fd0>, <__main__.Setup object at 0x7f1f63c41048>, <__main__.Setup object at 0x7f1f63c41080>, <__main__.Setup object at 0x7f1f63c410b8>, <__main__.Setup object at 0x7f1f63c410f0>, <__main__.Setup object at 0x7f1f63c41128>, <__main__.Setup object at 0x7f1f63c41160>, <__main__.Setup object at 0x7f1f63c41198>, <__main__.Setup object at 0x7f1f63c411d0>, <__main__.Setup object at 0x7f1f63c41208>, <__main__.Setup object at 0x7f1f63c41240>, <__main__.Setup object at 0x7f1f63c41278>, <__main__.Setup object at 0x7f1f63c412b0>, <__main__.Setup object at 0x7f1f63c412e8>, <__main__.Setup object at 0x7f1f63c41320>, <__main__.Setup object at 0x7f1f63c41358>, <__main__.Setup object at 0x7f1f63c41390>, <__main__.Setup object at 0x7f1f63c413c8>, <__main__.Setup object at 0x7f1f63c41400>, <__main__.Setup object at 0x7f1f63c41438>, <__main__.Setup object at 0x7f1f63c41470>, <__main__.Setup object at 0x7f1f63c414a8>, <__main__.Setup object at 0x7f1f63c414e0>, <__main__.Setup object at 0x7f1f63c41518>, <__main__.Setup object at 0x7f1f63c41550>, <__main__.Setup object at 0x7f1f63c41588>, <__main__.Setup object at 0x7f1f63c415c0>, <__main__.Setup object at 0x7f1f63c415f8>, <__main__.Setup object at 0x7f1f63c41630>, <__main__.Setup object at 0x7f1f63c41668>, <__main__.Setup object at 0x7f1f63c416a0>, <__main__.Setup object at 0x7f1f63c416d8>, <__main__.Setup object at 0x7f1f63c41710>, <__main__.Setup object at 0x7f1f63c41748>, <__main__.Setup object at 0x7f1f63c41780>, <__main__.Setup object at 0x7f1f63c417b8>, <__main__.Setup object at 0x7f1f63c417f0>, <__main__.Setup object at 0x7f1f63c41828>, <__main__.Setup object at 0x7f1f63c41860>, <__main__.Setup object at 0x7f1f63c41898>, <__main__.Setup object at 0x7f1f63c418d0>, <__main__.Setup object at 0x7f1f63c41908>, <__main__.Setup object at 0x7f1f63c41940>, <__main__.Setup object at 0x7f1f63c41978>, <__main__.Setup object at 0x7f1f63c419b0>, <__main__.Setup object at 0x7f1f63c419e8>, <__main__.Setup object at 0x7f1f63c41a20>, <__main__.Setup object at 0x7f1f63c41a58>, <__main__.Setup object at 0x7f1f63c41a90>, <__main__.Setup object at 0x7f1f63c41ac8>, <__main__.Setup object at 0x7f1f63c41b00>, <__main__.Setup object at 0x7f1f63c41b38>, <__main__.Setup object at 0x7f1f63c41b70>, <__main__.Setup object at 0x7f1f63c41ba8>, <__main__.Setup object at 0x7f1f63c41be0>, <__main__.Setup object at 0x7f1f63c41c18>, <__main__.Setup object at 0x7f1f63c41c50>, <__main__.Setup object at 0x7f1f63c41c88>, <__main__.Setup object at 0x7f1f63c41cc0>, <__main__.Setup object at 0x7f1f63c41cf8>, <__main__.Setup object at 0x7f1f63c41d30>, <__main__.Setup object at 0x7f1f63c41d68>, <__main__.Setup object at 0x7f1f63c41da0>, <__main__.Setup object at 0x7f1f63c41dd8>, <__main__.Setup object at 0x7f1f63c41e10>, <__main__.Setup object at 0x7f1f63c41e48>, <__main__.Setup object at 0x7f1f63c41e80>, <__main__.Setup object at 0x7f1f63c41eb8>, <__main__.Setup object at 0x7f1f63c41ef0>, <__main__.Setup object at 0x7f1f63c41f28>, <__main__.Setup object at 0x7f1f63c41f60>, <__main__.Setup object at 0x7f1f63c41f98>, <__main__.Setup object at 0x7f1f63c41fd0>, <__main__.Setup object at 0x7f1f63c44048>, <__main__.Setup object at 0x7f1f63c44080>, <__main__.Setup object at 0x7f1f63c440b8>, <__main__.Setup object at 0x7f1f63c440f0>, <__main__.Setup object at 0x7f1f63c44128>, <__main__.Setup object at 0x7f1f63c44160>, <__main__.Setup object at 0x7f1f63c44198>, <__main__.Setup object at 0x7f1f63c441d0>, <__main__.Setup object at 0x7f1f63c44208>, <__main__.Setup object at 0x7f1f63c44240>, <__main__.Setup object at 0x7f1f63c44278>, <__main__.Setup object at 0x7f1f63c442b0>, <__main__.Setup object at 0x7f1f63c442e8>, <__main__.Setup object at 0x7f1f63c44320>, <__main__.Setup object at 0x7f1f63c44358>, <__main__.Setup object at 0x7f1f63c44390>, <__main__.Setup object at 0x7f1f63c443c8>, <__main__.Setup object at 0x7f1f63c44400>, <__main__.Setup object at 0x7f1f63c44438>, <__main__.Setup object at 0x7f1f63c44470>, <__main__.Setup object at 0x7f1f63c444a8>, <__main__.Setup object at 0x7f1f63c444e0>, <__main__.Setup object at 0x7f1f63c44518>, <__main__.Setup object at 0x7f1f63c44550>, <__main__.Setup object at 0x7f1f63c44588>, <__main__.Setup object at 0x7f1f63c445c0>, <__main__.Setup object at 0x7f1f63c445f8>, <__main__.Setup object at 0x7f1f63c44630>, <__main__.Setup object at 0x7f1f63c44668>, <__main__.Setup object at 0x7f1f63c446a0>, <__main__.Setup object at 0x7f1f63c446d8>, <__main__.Setup object at 0x7f1f63c44710>, <__main__.Setup object at 0x7f1f63c44748>, <__main__.Setup object at 0x7f1f63c44780>, <__main__.Setup object at 0x7f1f63c447b8>, <__main__.Setup object at 0x7f1f63c447f0>, <__main__.Setup object at 0x7f1f63c44828>, <__main__.Setup object at 0x7f1f63c44860>, <__main__.Setup object at 0x7f1f63c44898>, <__main__.Setup object at 0x7f1f63c448d0>, <__main__.Setup object at 0x7f1f63c44908>, <__main__.Setup object at 0x7f1f63c44940>, <__main__.Setup object at 0x7f1f63c44978>, <__main__.Setup object at 0x7f1f63c449b0>, <__main__.Setup object at 0x7f1f63c449e8>, <__main__.Setup object at 0x7f1f63c44a20>, <__main__.Setup object at 0x7f1f63c44a58>, <__main__.Setup object at 0x7f1f63c44a90>, <__main__.Setup object at 0x7f1f63c44ac8>, <__main__.Setup object at 0x7f1f63c44b00>, <__main__.Setup object at 0x7f1f63c44b38>, <__main__.Setup object at 0x7f1f63c44b70>, <__main__.Setup object at 0x7f1f63c44ba8>, <__main__.Setup object at 0x7f1f63c44be0>, <__main__.Setup object at 0x7f1f63c44c18>, <__main__.Setup object at 0x7f1f63c44c50>, <__main__.Setup object at 0x7f1f63c44c88>, <__main__.Setup object at 0x7f1f63c44cc0>, <__main__.Setup object at 0x7f1f63c44cf8>, <__main__.Setup object at 0x7f1f63c44d30>, <__main__.Setup object at 0x7f1f63c44d68>, <__main__.Setup object at 0x7f1f63c44da0>, <__main__.Setup object at 0x7f1f63c44dd8>, <__main__.Setup object at 0x7f1f63c44e10>, <__main__.Setup object at 0x7f1f63c44e48>, <__main__.Setup object at 0x7f1f63c44e80>, <__main__.Setup object at 0x7f1f63c44eb8>, <__main__.Setup object at 0x7f1f63c44ef0>, <__main__.Setup object at 0x7f1f63c44f28>, <__main__.Setup object at 0x7f1f63c44f60>, <__main__.Setup object at 0x7f1f63c44f98>, <__main__.Setup object at 0x7f1f63c44fd0>, <__main__.Setup object at 0x7f1f63c48048>, <__main__.Setup object at 0x7f1f63c48080>, <__main__.Setup object at 0x7f1f63c480b8>, <__main__.Setup object at 0x7f1f63c480f0>, <__main__.Setup object at 0x7f1f63c48128>, <__main__.Setup object at 0x7f1f63c48160>, <__main__.Setup object at 0x7f1f63c48198>, <__main__.Setup object at 0x7f1f63c481d0>, <__main__.Setup object at 0x7f1f63c48208>, <__main__.Setup object at 0x7f1f63c48240>, <__main__.Setup object at 0x7f1f63c48278>, <__main__.Setup object at 0x7f1f63c482b0>, <__main__.Setup object at 0x7f1f63c482e8>, <__main__.Setup object at 0x7f1f63c48320>, <__main__.Setup object at 0x7f1f63c48358>, <__main__.Setup object at 0x7f1f63c48390>, <__main__.Setup object at 0x7f1f63c483c8>, <__main__.Setup object at 0x7f1f63c48400>, <__main__.Setup object at 0x7f1f63c48438>, <__main__.Setup object at 0x7f1f63c48470>, <__main__.Setup object at 0x7f1f63c484a8>, <__main__.Setup object at 0x7f1f63c484e0>, <__main__.Setup object at 0x7f1f63c48518>, <__main__.Setup object at 0x7f1f63c48550>, <__main__.Setup object at 0x7f1f63c48588>, <__main__.Setup object at 0x7f1f63c485c0>, <__main__.Setup object at 0x7f1f63c485f8>, <__main__.Setup object at 0x7f1f63c48630>, <__main__.Setup object at 0x7f1f63c48668>, <__main__.Setup object at 0x7f1f63c486a0>, <__main__.Setup object at 0x7f1f63c486d8>, <__main__.Setup object at 0x7f1f63c48710>, <__main__.Setup object at 0x7f1f63c48748>, <__main__.Setup object at 0x7f1f63c48780>, <__main__.Setup object at 0x7f1f63c487b8>, <__main__.Setup object at 0x7f1f63c487f0>, <__main__.Setup object at 0x7f1f63c48828>, <__main__.Setup object at 0x7f1f63c48860>, <__main__.Setup object at 0x7f1f63c48898>, <__main__.Setup object at 0x7f1f63c488d0>, <__main__.Setup object at 0x7f1f63c48908>, <__main__.Setup object at 0x7f1f63c48940>, <__main__.Setup object at 0x7f1f63c48978>, <__main__.Setup object at 0x7f1f63c489b0>, <__main__.Setup object at 0x7f1f63c489e8>, <__main__.Setup object at 0x7f1f63c48a20>, <__main__.Setup object at 0x7f1f63c48a58>, <__main__.Setup object at 0x7f1f63c48a90>, <__main__.Setup object at 0x7f1f63c48ac8>, <__main__.Setup object at 0x7f1f63c48b00>, <__main__.Setup object at 0x7f1f63c48b38>, <__main__.Setup object at 0x7f1f63c48b70>, <__main__.Setup object at 0x7f1f63c48ba8>, <__main__.Setup object at 0x7f1f63c48be0>, <__main__.Setup object at 0x7f1f63c48c18>, <__main__.Setup object at 0x7f1f63c48c50>, <__main__.Setup object at 0x7f1f63c48c88>, <__main__.Setup object at 0x7f1f63c48cc0>, <__main__.Setup object at 0x7f1f63c48cf8>, <__main__.Setup object at 0x7f1f63c48d30>, <__main__.Setup object at 0x7f1f63c48d68>, <__main__.Setup object at 0x7f1f63c48da0>, <__main__.Setup object at 0x7f1f63c48dd8>, <__main__.Setup object at 0x7f1f63c48e10>, <__main__.Setup object at 0x7f1f63c48e48>, <__main__.Setup object at 0x7f1f63c48e80>, <__main__.Setup object at 0x7f1f63c48eb8>, <__main__.Setup object at 0x7f1f63c48ef0>, <__main__.Setup object at 0x7f1f63c48f28>, <__main__.Setup object at 0x7f1f63c48f60>, <__main__.Setup object at 0x7f1f63c48f98>, <__main__.Setup object at 0x7f1f63c48fd0>, <__main__.Setup object at 0x7f1f63c4c048>, <__main__.Setup object at 0x7f1f63c4c080>, <__main__.Setup object at 0x7f1f63c4c0b8>, <__main__.Setup object at 0x7f1f63c4c0f0>, <__main__.Setup object at 0x7f1f63c4c128>, <__main__.Setup object at 0x7f1f63c4c160>, <__main__.Setup object at 0x7f1f63c4c198>, <__main__.Setup object at 0x7f1f63c4c1d0>, <__main__.Setup object at 0x7f1f63c4c208>, <__main__.Setup object at 0x7f1f63c4c240>, <__main__.Setup object at 0x7f1f63c4c278>, <__main__.Setup object at 0x7f1f63c4c2b0>, <__main__.Setup object at 0x7f1f63c4c2e8>, <__main__.Setup object at 0x7f1f63c4c320>, <__main__.Setup object at 0x7f1f63c4c358>, <__main__.Setup object at 0x7f1f63c4c390>, <__main__.Setup object at 0x7f1f63c4c3c8>, <__main__.Setup object at 0x7f1f63c4c400>, <__main__.Setup object at 0x7f1f63c4c438>, <__main__.Setup object at 0x7f1f63c4c470>, <__main__.Setup object at 0x7f1f63c4c4a8>, <__main__.Setup object at 0x7f1f63c4c4e0>, <__main__.Setup object at 0x7f1f63c4c518>, <__main__.Setup object at 0x7f1f63c4c550>, <__main__.Setup object at 0x7f1f63c4c588>, <__main__.Setup object at 0x7f1f63c4c5c0>, <__main__.Setup object at 0x7f1f63c4c5f8>, <__main__.Setup object at 0x7f1f63c4c630>, <__main__.Setup object at 0x7f1f63c4c668>, <__main__.Setup object at 0x7f1f63c4c6a0>, <__main__.Setup object at 0x7f1f63c4c6d8>, <__main__.Setup object at 0x7f1f63c4c710>, <__main__.Setup object at 0x7f1f63c4c748>, <__main__.Setup object at 0x7f1f63c4c780>, <__main__.Setup object at 0x7f1f63c4c7b8>, <__main__.Setup object at 0x7f1f63c4c7f0>, <__main__.Setup object at 0x7f1f63c4c828>, <__main__.Setup object at 0x7f1f63c4c860>, <__main__.Setup object at 0x7f1f63c4c898>, <__main__.Setup object at 0x7f1f63c4c8d0>, <__main__.Setup object at 0x7f1f63c4c908>, <__main__.Setup object at 0x7f1f63c4c940>, <__main__.Setup object at 0x7f1f63c4c978>, <__main__.Setup object at 0x7f1f63c4c9b0>, <__main__.Setup object at 0x7f1f63c4c9e8>, <__main__.Setup object at 0x7f1f63c4ca20>, <__main__.Setup object at 0x7f1f63c4ca58>, <__main__.Setup object at 0x7f1f63c4ca90>, <__main__.Setup object at 0x7f1f63c4cac8>, <__main__.Setup object at 0x7f1f63c4cb00>, <__main__.Setup object at 0x7f1f63c4cb38>, <__main__.Setup object at 0x7f1f63c4cb70>, <__main__.Setup object at 0x7f1f63c4cba8>, <__main__.Setup object at 0x7f1f63c4cbe0>, <__main__.Setup object at 0x7f1f63c4cc18>, <__main__.Setup object at 0x7f1f63c4cc50>, <__main__.Setup object at 0x7f1f63c4cc88>, <__main__.Setup object at 0x7f1f63c4ccc0>, <__main__.Setup object at 0x7f1f63c4ccf8>, <__main__.Setup object at 0x7f1f63c4cd30>, <__main__.Setup object at 0x7f1f63c4cd68>, <__main__.Setup object at 0x7f1f63c4cda0>, <__main__.Setup object at 0x7f1f63c4cdd8>, <__main__.Setup object at 0x7f1f63c4ce10>, <__main__.Setup object at 0x7f1f63c4ce48>, <__main__.Setup object at 0x7f1f63c4ce80>, <__main__.Setup object at 0x7f1f63c4ceb8>, <__main__.Setup object at 0x7f1f63c4cef0>, <__main__.Setup object at 0x7f1f63c4cf28>, <__main__.Setup object at 0x7f1f63c4cf60>, <__main__.Setup object at 0x7f1f63c4cf98>, <__main__.Setup object at 0x7f1f63c4cfd0>, <__main__.Setup object at 0x7f1f63c4f048>, <__main__.Setup object at 0x7f1f63c4f080>, <__main__.Setup object at 0x7f1f63c4f0b8>, <__main__.Setup object at 0x7f1f63c4f0f0>, <__main__.Setup object at 0x7f1f63c4f128>, <__main__.Setup object at 0x7f1f63c4f160>, <__main__.Setup object at 0x7f1f63c4f198>, <__main__.Setup object at 0x7f1f63c4f1d0>, <__main__.Setup object at 0x7f1f63c4f208>, <__main__.Setup object at 0x7f1f63c4f240>, <__main__.Setup object at 0x7f1f63c4f278>, <__main__.Setup object at 0x7f1f63c4f2b0>, <__main__.Setup object at 0x7f1f63c4f2e8>, <__main__.Setup object at 0x7f1f63c4f320>, <__main__.Setup object at 0x7f1f63c4f358>, <__main__.Setup object at 0x7f1f63c4f390>, <__main__.Setup object at 0x7f1f63c4f3c8>, <__main__.Setup object at 0x7f1f63c4f400>, <__main__.Setup object at 0x7f1f63c4f438>, <__main__.Setup object at 0x7f1f63c4f470>, <__main__.Setup object at 0x7f1f63c4f4a8>, <__main__.Setup object at 0x7f1f63c4f4e0>, <__main__.Setup object at 0x7f1f63c4f518>, <__main__.Setup object at 0x7f1f63c4f550>, <__main__.Setup object at 0x7f1f63c4f588>, <__main__.Setup object at 0x7f1f63c4f5c0>, <__main__.Setup object at 0x7f1f63c4f5f8>, <__main__.Setup object at 0x7f1f63c4f630>, <__main__.Setup object at 0x7f1f63c4f668>, <__main__.Setup object at 0x7f1f63c4f6a0>, <__main__.Setup object at 0x7f1f63c4f6d8>, <__main__.Setup object at 0x7f1f63c4f710>, <__main__.Setup object at 0x7f1f63c4f748>, <__main__.Setup object at 0x7f1f63c4f780>, <__main__.Setup object at 0x7f1f63c4f7b8>, <__main__.Setup object at 0x7f1f63c4f7f0>, <__main__.Setup object at 0x7f1f63c4f828>, <__main__.Setup object at 0x7f1f63c4f860>, <__main__.Setup object at 0x7f1f63c4f898>, <__main__.Setup object at 0x7f1f63c4f8d0>, <__main__.Setup object at 0x7f1f63c4f908>, <__main__.Setup object at 0x7f1f63c4f940>, <__main__.Setup object at 0x7f1f63c4f978>, <__main__.Setup object at 0x7f1f63c4f9b0>, <__main__.Setup object at 0x7f1f63c4f9e8>, <__main__.Setup object at 0x7f1f63c4fa20>, <__main__.Setup object at 0x7f1f63c4fa58>, <__main__.Setup object at 0x7f1f63c4fa90>, <__main__.Setup object at 0x7f1f63c4fac8>, <__main__.Setup object at 0x7f1f63c4fb00>, <__main__.Setup object at 0x7f1f63c4fb38>, <__main__.Setup object at 0x7f1f63c4fb70>, <__main__.Setup object at 0x7f1f63c4fba8>, <__main__.Setup object at 0x7f1f63c4fbe0>, <__main__.Setup object at 0x7f1f63c4fc18>, <__main__.Setup object at 0x7f1f63c4fc50>, <__main__.Setup object at 0x7f1f63c4fc88>, <__main__.Setup object at 0x7f1f63c4fcc0>, <__main__.Setup object at 0x7f1f63c4fcf8>, <__main__.Setup object at 0x7f1f63c4fd30>, <__main__.Setup object at 0x7f1f63c4fd68>, <__main__.Setup object at 0x7f1f63c4fda0>, <__main__.Setup object at 0x7f1f63c4fdd8>, <__main__.Setup object at 0x7f1f63c4fe10>, <__main__.Setup object at 0x7f1f63c4fe48>, <__main__.Setup object at 0x7f1f63c4fe80>, <__main__.Setup object at 0x7f1f63c4feb8>, <__main__.Setup object at 0x7f1f63c4fef0>, <__main__.Setup object at 0x7f1f63c4ff28>, <__main__.Setup object at 0x7f1f63c4ff60>, <__main__.Setup object at 0x7f1f63c4ff98>, <__main__.Setup object at 0x7f1f63c4ffd0>, <__main__.Setup object at 0x7f1f63c52048>, <__main__.Setup object at 0x7f1f63c52080>, <__main__.Setup object at 0x7f1f63c520b8>, <__main__.Setup object at 0x7f1f63c520f0>, <__main__.Setup object at 0x7f1f63c52128>, <__main__.Setup object at 0x7f1f63c52160>, <__main__.Setup object at 0x7f1f63c52198>, <__main__.Setup object at 0x7f1f63c521d0>, <__main__.Setup object at 0x7f1f63c52208>, <__main__.Setup object at 0x7f1f63c52240>, <__main__.Setup object at 0x7f1f63c52278>, <__main__.Setup object at 0x7f1f63c522b0>, <__main__.Setup object at 0x7f1f63c522e8>, <__main__.Setup object at 0x7f1f63c52320>, <__main__.Setup object at 0x7f1f63c52358>, <__main__.Setup object at 0x7f1f63c52390>, <__main__.Setup object at 0x7f1f63c523c8>, <__main__.Setup object at 0x7f1f63c52400>, <__main__.Setup object at 0x7f1f63c52438>, <__main__.Setup object at 0x7f1f63c52470>, <__main__.Setup object at 0x7f1f63c524a8>, <__main__.Setup object at 0x7f1f63c524e0>, <__main__.Setup object at 0x7f1f63c52518>, <__main__.Setup object at 0x7f1f63c52550>, <__main__.Setup object at 0x7f1f63c52588>, <__main__.Setup object at 0x7f1f63c525c0>, <__main__.Setup object at 0x7f1f63c525f8>, <__main__.Setup object at 0x7f1f63c52630>, <__main__.Setup object at 0x7f1f63c52668>, <__main__.Setup object at 0x7f1f63c526a0>, <__main__.Setup object at 0x7f1f63c526d8>, <__main__.Setup object at 0x7f1f63c52710>, <__main__.Setup object at 0x7f1f63c52748>, <__main__.Setup object at 0x7f1f63c52780>, <__main__.Setup object at 0x7f1f63c527b8>, <__main__.Setup object at 0x7f1f63c527f0>, <__main__.Setup object at 0x7f1f63c52828>, <__main__.Setup object at 0x7f1f63c52860>, <__main__.Setup object at 0x7f1f63c52898>, <__main__.Setup object at 0x7f1f63c528d0>, <__main__.Setup object at 0x7f1f63c52908>, <__main__.Setup object at 0x7f1f63c52940>, <__main__.Setup object at 0x7f1f63c52978>, <__main__.Setup object at 0x7f1f63c529b0>, <__main__.Setup object at 0x7f1f63c529e8>, <__main__.Setup object at 0x7f1f63c52a20>, <__main__.Setup object at 0x7f1f63c52a58>, <__main__.Setup object at 0x7f1f63c52a90>, <__main__.Setup object at 0x7f1f63c52ac8>, <__main__.Setup object at 0x7f1f63c52b00>, <__main__.Setup object at 0x7f1f63c52b38>, <__main__.Setup object at 0x7f1f63c52b70>, <__main__.Setup object at 0x7f1f63c52ba8>, <__main__.Setup object at 0x7f1f63c52be0>, <__main__.Setup object at 0x7f1f63c52c18>, <__main__.Setup object at 0x7f1f63c52c50>, <__main__.Setup object at 0x7f1f63c52c88>, <__main__.Setup object at 0x7f1f63c52cc0>, <__main__.Setup object at 0x7f1f63c52cf8>, <__main__.Setup object at 0x7f1f63c52d30>, <__main__.Setup object at 0x7f1f63c52d68>, <__main__.Setup object at 0x7f1f63c52da0>, <__main__.Setup object at 0x7f1f63c52dd8>, <__main__.Setup object at 0x7f1f63c52e10>, <__main__.Setup object at 0x7f1f63c52e48>, <__main__.Setup object at 0x7f1f63c52e80>, <__main__.Setup object at 0x7f1f63c52eb8>, <__main__.Setup object at 0x7f1f63c52ef0>, <__main__.Setup object at 0x7f1f63c52f28>, <__main__.Setup object at 0x7f1f63c52f60>, <__main__.Setup object at 0x7f1f63c52f98>, <__main__.Setup object at 0x7f1f63c52fd0>, <__main__.Setup object at 0x7f1f63c55048>, <__main__.Setup object at 0x7f1f63c55080>, <__main__.Setup object at 0x7f1f63c550b8>, <__main__.Setup object at 0x7f1f63c550f0>, <__main__.Setup object at 0x7f1f63c55128>, <__main__.Setup object at 0x7f1f63c55160>, <__main__.Setup object at 0x7f1f63c55198>, <__main__.Setup object at 0x7f1f63c551d0>, <__main__.Setup object at 0x7f1f63c55208>, <__main__.Setup object at 0x7f1f63c55240>, <__main__.Setup object at 0x7f1f63c55278>, <__main__.Setup object at 0x7f1f63c552b0>, <__main__.Setup object at 0x7f1f63c552e8>, <__main__.Setup object at 0x7f1f63c55320>, <__main__.Setup object at 0x7f1f63c55358>, <__main__.Setup object at 0x7f1f63c55390>, <__main__.Setup object at 0x7f1f63c553c8>, <__main__.Setup object at 0x7f1f63c55400>, <__main__.Setup object at 0x7f1f63c55438>, <__main__.Setup object at 0x7f1f63c55470>, <__main__.Setup object at 0x7f1f63c554a8>, <__main__.Setup object at 0x7f1f63c554e0>, <__main__.Setup object at 0x7f1f63c55518>, <__main__.Setup object at 0x7f1f63c55550>, <__main__.Setup object at 0x7f1f63c55588>, <__main__.Setup object at 0x7f1f63c555c0>, <__main__.Setup object at 0x7f1f63c555f8>, <__main__.Setup object at 0x7f1f63c55630>, <__main__.Setup object at 0x7f1f63c55668>, <__main__.Setup object at 0x7f1f63c556a0>, <__main__.Setup object at 0x7f1f63c556d8>, <__main__.Setup object at 0x7f1f63c55710>, <__main__.Setup object at 0x7f1f63c55748>, <__main__.Setup object at 0x7f1f63c55780>, <__main__.Setup object at 0x7f1f63c557b8>, <__main__.Setup object at 0x7f1f63c557f0>, <__main__.Setup object at 0x7f1f63c55828>, <__main__.Setup object at 0x7f1f63c55860>, <__main__.Setup object at 0x7f1f63c55898>, <__main__.Setup object at 0x7f1f63c558d0>, <__main__.Setup object at 0x7f1f63c55908>, <__main__.Setup object at 0x7f1f63c55940>, <__main__.Setup object at 0x7f1f63c55978>, <__main__.Setup object at 0x7f1f63c559b0>, <__main__.Setup object at 0x7f1f63c559e8>, <__main__.Setup object at 0x7f1f63c55a20>, <__main__.Setup object at 0x7f1f63c55a58>, <__main__.Setup object at 0x7f1f63c55a90>, <__main__.Setup object at 0x7f1f63c55ac8>, <__main__.Setup object at 0x7f1f63c55b00>, <__main__.Setup object at 0x7f1f63c55b38>, <__main__.Setup object at 0x7f1f63c55b70>, <__main__.Setup object at 0x7f1f63c55ba8>, <__main__.Setup object at 0x7f1f63c55be0>, <__main__.Setup object at 0x7f1f63c55c18>, <__main__.Setup object at 0x7f1f63c55c50>, <__main__.Setup object at 0x7f1f63c55c88>, <__main__.Setup object at 0x7f1f63c55cc0>, <__main__.Setup object at 0x7f1f63c55cf8>, <__main__.Setup object at 0x7f1f63c55d30>, <__main__.Setup object at 0x7f1f63c55d68>, <__main__.Setup object at 0x7f1f63c55da0>, <__main__.Setup object at 0x7f1f63c55dd8>, <__main__.Setup object at 0x7f1f63c55e10>, <__main__.Setup object at 0x7f1f63c55e48>, <__main__.Setup object at 0x7f1f63c55e80>, <__main__.Setup object at 0x7f1f63c55eb8>, <__main__.Setup object at 0x7f1f63c55ef0>, <__main__.Setup object at 0x7f1f63c55f28>, <__main__.Setup object at 0x7f1f63c55f60>, <__main__.Setup object at 0x7f1f63c55f98>, <__main__.Setup object at 0x7f1f63c55fd0>, <__main__.Setup object at 0x7f1f63c58048>, <__main__.Setup object at 0x7f1f63c58080>, <__main__.Setup object at 0x7f1f63c580b8>, <__main__.Setup object at 0x7f1f63c580f0>, <__main__.Setup object at 0x7f1f63c58128>, <__main__.Setup object at 0x7f1f63c58160>, <__main__.Setup object at 0x7f1f63c58198>, <__main__.Setup object at 0x7f1f63c581d0>, <__main__.Setup object at 0x7f1f63c58208>, <__main__.Setup object at 0x7f1f63c58240>, <__main__.Setup object at 0x7f1f63c58278>, <__main__.Setup object at 0x7f1f63c582b0>, <__main__.Setup object at 0x7f1f63c582e8>, <__main__.Setup object at 0x7f1f63c58320>, <__main__.Setup object at 0x7f1f63c58358>, <__main__.Setup object at 0x7f1f63c58390>, <__main__.Setup object at 0x7f1f63c583c8>, <__main__.Setup object at 0x7f1f63c58400>, <__main__.Setup object at 0x7f1f63c58438>, <__main__.Setup object at 0x7f1f63c58470>, <__main__.Setup object at 0x7f1f63c584a8>, <__main__.Setup object at 0x7f1f63c584e0>, <__main__.Setup object at 0x7f1f63c58518>, <__main__.Setup object at 0x7f1f63c58550>, <__main__.Setup object at 0x7f1f63c58588>, <__main__.Setup object at 0x7f1f63c585c0>, <__main__.Setup object at 0x7f1f63c585f8>, <__main__.Setup object at 0x7f1f63c58630>, <__main__.Setup object at 0x7f1f63c58668>, <__main__.Setup object at 0x7f1f63c586a0>, <__main__.Setup object at 0x7f1f63c586d8>, <__main__.Setup object at 0x7f1f63c58710>, <__main__.Setup object at 0x7f1f63c58748>, <__main__.Setup object at 0x7f1f63c58780>, <__main__.Setup object at 0x7f1f63c587b8>, <__main__.Setup object at 0x7f1f63c587f0>, <__main__.Setup object at 0x7f1f63c58828>, <__main__.Setup object at 0x7f1f63c58860>, <__main__.Setup object at 0x7f1f63c58898>, <__main__.Setup object at 0x7f1f63c588d0>, <__main__.Setup object at 0x7f1f63c58908>, <__main__.Setup object at 0x7f1f63c58940>, <__main__.Setup object at 0x7f1f63c58978>, <__main__.Setup object at 0x7f1f63c589b0>, <__main__.Setup object at 0x7f1f63c589e8>, <__main__.Setup object at 0x7f1f63c58a20>, <__main__.Setup object at 0x7f1f63c58a58>, <__main__.Setup object at 0x7f1f63c58a90>, <__main__.Setup object at 0x7f1f63c58ac8>, <__main__.Setup object at 0x7f1f63c58b00>, <__main__.Setup object at 0x7f1f63c58b38>, <__main__.Setup object at 0x7f1f63c58b70>]\n",
            "Iteration number :  0\n",
            "[0 5 7 2 6 3 1 4]\n",
            "[2 5 7 0 4 6 1 3]\n",
            "[2 6 1 7 5 3 0 4]\n"
          ],
          "name": "stdout"
        }
      ]
    }
  ]
}